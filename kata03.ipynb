{
 "cells": [
  {
   "cell_type": "markdown",
   "metadata": {},
   "source": [
    "# Kata 03"
   ]
  },
  {
   "cell_type": "markdown",
   "metadata": {},
   "source": [
    "## Lógica booleana"
   ]
  },
  {
   "cell_type": "markdown",
   "metadata": {},
   "source": [
    "Código 1"
   ]
  },
  {
   "cell_type": "code",
   "execution_count": null,
   "metadata": {},
   "outputs": [],
   "source": [
    "vAsteroide = 49\n",
    "if vAsteroide > 25:\n",
    "    print(\"Cuidado, asteroide fuera de control!\")\n",
    "else:\n",
    "    print(\"El asteroide continua su curso estable.\")"
   ]
  },
  {
   "cell_type": "markdown",
   "metadata": {},
   "source": [
    "Codigo 2"
   ]
  },
  {
   "cell_type": "code",
   "execution_count": null,
   "metadata": {},
   "outputs": [],
   "source": [
    "vAsteroide = 19\n",
    "if vAsteroide > 20:\n",
    "    print(\"Hoy podemos ver un rayo de luz en el cielo.\")\n",
    "elif vAsteroide == 20:\n",
    "    print(\"Hoy podemos ver un rayo de luz en el cielo.\")\n",
    "else:\n",
    "    print(\"No hay asteroide a la vista.\")\n"
   ]
  },
  {
   "cell_type": "markdown",
   "metadata": {},
   "source": [
    "Código 3"
   ]
  },
  {
   "cell_type": "code",
   "execution_count": 10,
   "metadata": {},
   "outputs": [
    {
     "name": "stdout",
     "output_type": "stream",
     "text": [
      "No hay asteroide a la vista, pero cuidado, hemos detectado un gran asteroide\n"
     ]
    }
   ],
   "source": [
    "vAsteroide = 5\n",
    "tAsteroide = 300\n",
    "\n",
    "if tAsteroide > 25 and tAsteroide < 1000:\n",
    "    if vAsteroide > 20:\n",
    "        print(\"Hoy podemos ver un rayo de luz en el cielo, no salgan de sus hogares!\")\n",
    "    else:\n",
    "        print(\"No hay asteroide a la vista, pero cuidado, hemos detectado un gran asteroide\")\n",
    "\n",
    "else:\n",
    "    print(\"El día de hoy no hay peligro, cualquier asteroide se desintegrará en la atmosfera\")"
   ]
  }
 ],
 "metadata": {
  "interpreter": {
   "hash": "2e46dfccd7ef9c775e93c094a8243579a67a899b801292de2dc7a2f978dd1264"
  },
  "kernelspec": {
   "display_name": "Python 3.10.2 64-bit",
   "language": "python",
   "name": "python3"
  },
  "language_info": {
   "codemirror_mode": {
    "name": "ipython",
    "version": 3
   },
   "file_extension": ".py",
   "mimetype": "text/x-python",
   "name": "python",
   "nbconvert_exporter": "python",
   "pygments_lexer": "ipython3",
   "version": "3.10.2"
  },
  "orig_nbformat": 4
 },
 "nbformat": 4,
 "nbformat_minor": 2
}
