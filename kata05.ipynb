{
 "cells": [
  {
   "cell_type": "markdown",
   "metadata": {},
   "source": [
    "# Kata 05"
   ]
  },
  {
   "cell_type": "markdown",
   "metadata": {},
   "source": [
    "### Ejercicio 1"
   ]
  },
  {
   "cell_type": "markdown",
   "metadata": {},
   "source": [
    "Distancia entre planetas."
   ]
  },
  {
   "cell_type": "code",
   "execution_count": 10,
   "metadata": {},
   "outputs": [
    {
     "name": "stdout",
     "output_type": "stream",
     "text": [
      "La distancia entre la Tierra y Jupiter es de: 628949330 Kilometros\n",
      "La distancia entre la Tierra y Jupiter es de: 390577533.93 Millas\n"
     ]
    }
   ],
   "source": [
    "dTierra = 149597870\n",
    "dJupiter = 778547200\n",
    "\n",
    "dTierraJupiterKm = dJupiter - dTierra\n",
    "dTierraJupiterMl = dTierraJupiterKm*0.621\n",
    "\n",
    "print (\"La distancia entre la Tierra y Jupiter es de: \" + str(dTierraJupiterKm) +\" Kilometros\")\n",
    "print (\"La distancia entre la Tierra y Jupiter es de: \" + str(dTierraJupiterMl) +\" Millas\")"
   ]
  },
  {
   "cell_type": "markdown",
   "metadata": {},
   "source": [
    "### Ejercicio 2"
   ]
  },
  {
   "cell_type": "markdown",
   "metadata": {},
   "source": [
    "Convirtiendo cadenas en números y uso de valores absolutos."
   ]
  },
  {
   "cell_type": "code",
   "execution_count": 21,
   "metadata": {},
   "outputs": [
    {
     "name": "stdout",
     "output_type": "stream",
     "text": [
      "Para medir la distancia entre 2 planetas, ingresa la distancia del sol para cada uno.\n",
      "4\n",
      "kilometros en valor absoluto:\n",
      "4\n",
      "La distancia es millas es de 2.484\n"
     ]
    }
   ],
   "source": [
    "print(\"Para medir la distancia entre 2 planetas, ingresa la distancia del sol para cada uno.\")\n",
    "\n",
    "planeta1 = input(\"Escribe la distancia del primer planeta al sol\")\n",
    "planeta2 = input(\"Escribe la distancia del segundo planeta al sol\")\n",
    "\n",
    "planeta1 = int(planeta1)\n",
    "planeta2 = int(planeta2)\n",
    "\n",
    "distanciaPlanetas = planeta1 - planeta2\n",
    "\n",
    "print(distanciaPlanetas)\n",
    "\n",
    "print(\"kilometros en valor absoluto:\")\n",
    "\n",
    "print(abs(distanciaPlanetas)\n",
    ")\n",
    "\n",
    "distanciaMillas = distanciaPlanetas*0.621\n",
    "print(\"La distancia es millas es de %s\" % distanciaMillas)"
   ]
  }
 ],
 "metadata": {
  "interpreter": {
   "hash": "2e46dfccd7ef9c775e93c094a8243579a67a899b801292de2dc7a2f978dd1264"
  },
  "kernelspec": {
   "display_name": "Python 3.10.2 64-bit",
   "language": "python",
   "name": "python3"
  },
  "language_info": {
   "codemirror_mode": {
    "name": "ipython",
    "version": 3
   },
   "file_extension": ".py",
   "mimetype": "text/x-python",
   "name": "python",
   "nbconvert_exporter": "python",
   "pygments_lexer": "ipython3",
   "version": "3.10.2"
  },
  "orig_nbformat": 4
 },
 "nbformat": 4,
 "nbformat_minor": 2
}
