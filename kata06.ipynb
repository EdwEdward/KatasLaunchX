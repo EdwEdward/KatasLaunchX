{
 "cells": [
  {
   "cell_type": "markdown",
   "metadata": {},
   "source": [
    "# Kata 06"
   ]
  },
  {
   "cell_type": "markdown",
   "metadata": {},
   "source": [
    "Listas y nombres de planetas."
   ]
  },
  {
   "cell_type": "code",
   "execution_count": null,
   "metadata": {},
   "outputs": [],
   "source": [
    "planets = ['Mercurio', 'Venus', 'Tierra', 'Marte', 'Jupiter', 'Saturno', 'Urano', 'Neptuno']\n",
    "print(planets)\n",
    "print('\\nEl primer planeta es', planets[0])\n",
    "print('El segundo planeta es', planets[1])\n",
    "print('El tercer planeta es', planets[2])\n",
    "print('El cuarto planeta es', planets[3])\n",
    "print('El quinto planeta es', planets[4])\n",
    "print('El sexto planeta es', planets[5])\n",
    "print('El septimo planeta es', planets[6])\n",
    "print('El octavo planeta es', planets[7])\n",
    "\n",
    "planets.append('Pluton')\n",
    "\n",
    "print('------------------------------------------------')\n",
    "\n",
    "print(planets)\n",
    "\n",
    "numeroPlanetas = len(planets)\n",
    "\n",
    "print('El número de planetas es de '+str(numeroPlanetas))"
   ]
  },
  {
   "cell_type": "markdown",
   "metadata": {},
   "source": [
    "Trabajar datos de una lista."
   ]
  },
  {
   "cell_type": "code",
   "execution_count": 16,
   "metadata": {},
   "outputs": [
    {
     "name": "stdout",
     "output_type": "stream",
     "text": [
      "Los planetas mas cercanos al sol que el elegido son\n",
      "['Mercurio', 'Venus']\n",
      "Los planetas mas alejados al sol que el elegido son\n",
      "['Marte', 'Jupiter', 'Saturno', 'Urano', 'Neptuno']\n"
     ]
    }
   ],
   "source": [
    "planets = ['Mercurio', 'Venus', 'Tierra', 'Marte', 'Jupiter', 'Saturno', 'Urano', 'Neptuno']\n",
    "\n",
    "planetaElegido = input('Ingrese el nombre de un planeta con la letra inicial mayúscula.')\n",
    "lugarPlaneta = planets.index(planetaElegido)\n",
    "\n",
    "print('Los planetas mas cercanos al sol que el elegido son')\n",
    "print(planets[0:lugarPlaneta])\n",
    "\n",
    "print('Los planetas mas alejados al sol que el elegido son')\n",
    "print(planets[lugarPlaneta+1:])"
   ]
  }
 ],
 "metadata": {
  "interpreter": {
   "hash": "2e46dfccd7ef9c775e93c094a8243579a67a899b801292de2dc7a2f978dd1264"
  },
  "kernelspec": {
   "display_name": "Python 3.10.2 64-bit",
   "language": "python",
   "name": "python3"
  },
  "language_info": {
   "codemirror_mode": {
    "name": "ipython",
    "version": 3
   },
   "file_extension": ".py",
   "mimetype": "text/x-python",
   "name": "python",
   "nbconvert_exporter": "python",
   "pygments_lexer": "ipython3",
   "version": "3.10.2"
  },
  "orig_nbformat": 4
 },
 "nbformat": 4,
 "nbformat_minor": 2
}
